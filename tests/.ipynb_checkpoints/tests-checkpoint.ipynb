{
 "cells": [
  {
   "cell_type": "code",
   "execution_count": 2,
   "metadata": {},
   "outputs": [
    {
     "data": {
      "text/plain": [
       "[4, 7, 12, 19, 28]"
      ]
     },
     "execution_count": 2,
     "metadata": {},
     "output_type": "execute_result"
    }
   ],
   "source": [
    "import re\n",
    "\n",
    "text = '''\n",
    "for i in list1:\n",
    "    for j in i:\n",
    "        if i > 2 and i < 10:\n",
    "            if j > 2:\n",
    "                mylist.append(i**2 + 3)\n",
    "'''\n",
    "\n",
    "list1 = [1,2,3,4,5]\n",
    "mylist = []\n",
    "\n",
    "for i in list1:\n",
    "    mylist.append(i**2 + 3)\n",
    "\n",
    "mylist"
   ]
  },
  {
   "cell_type": "code",
   "execution_count": 4,
   "metadata": {},
   "outputs": [],
   "source": [
    "content_pattern = r'append(.*)'\n",
    "content = re.findall(content_pattern, text)\n",
    "\n",
    "list_pattern = r'(\\w+.?\\d?\\(?\\)?).append'\n",
    "list_result = re.findall(list_pattern, text)\n",
    "\n",
    "item_pattern = r'for (\\w\\d*\\.?\\w*\\(?\\'?\\w*\\d*\\'?\\)?)'\n",
    "item = re.findall(item_pattern, text)\n",
    "\n",
    "iterator_pattern = r'in (\\w+\\.?\\d?):'\n",
    "iterator = re.findall(iterator_pattern, text)\n",
    "\n",
    "condition_pattern = r'(.*?):'\n",
    "condition = re.findall(condition_pattern, text)\n"
   ]
  },
  {
   "cell_type": "code",
   "execution_count": 6,
   "metadata": {},
   "outputs": [
    {
     "name": "stdout",
     "output_type": "stream",
     "text": [
      "['(i**2 + 3)'] ['mylist'] ['i', 'j'] ['list1', 'i'] ['for i in list1', '    for j in i', '        if i > 2 and i < 10', '            if j > 2']\n"
     ]
    }
   ],
   "source": [
    "print(content, list_result, item, iterator, condition)"
   ]
  },
  {
   "cell_type": "code",
   "execution_count": 7,
   "metadata": {},
   "outputs": [
    {
     "data": {
      "text/plain": [
       "['for i in list1',\n",
       " '    for j in i',\n",
       " '        if i > 2 and i < 10',\n",
       " '            if j > 2']"
      ]
     },
     "execution_count": 7,
     "metadata": {},
     "output_type": "execute_result"
    }
   ],
   "source": [
    "[i for i in condition]"
   ]
  },
  {
   "cell_type": "code",
   "execution_count": 10,
   "metadata": {},
   "outputs": [],
   "source": [
    "foo = [['['], [i for i in content], [f'for {i} in {j} ' for (i,j) in (item,iterator) ], [f'if {i}:' for i in condition], [']'] ]\n",
    "    \n",
    "       \n",
    "       "
   ]
  },
  {
   "cell_type": "code",
   "execution_count": 11,
   "metadata": {},
   "outputs": [
    {
     "data": {
      "text/plain": [
       "'[ (i**2 + 3) for i in j  for list1 in i  if for i in list1: if     for j in i: if         if i > 2 and i < 10: if             if j > 2: ]'"
      ]
     },
     "execution_count": 11,
     "metadata": {},
     "output_type": "execute_result"
    }
   ],
   "source": [
    "\" \".join([j for i in foo for j in i])"
   ]
  },
  {
   "cell_type": "code",
   "execution_count": null,
   "metadata": {},
   "outputs": [],
   "source": []
  }
 ],
 "metadata": {
  "kernelspec": {
   "display_name": "Python 3",
   "language": "python",
   "name": "python3"
  },
  "language_info": {
   "codemirror_mode": {
    "name": "ipython",
    "version": 3
   },
   "file_extension": ".py",
   "mimetype": "text/x-python",
   "name": "python",
   "nbconvert_exporter": "python",
   "pygments_lexer": "ipython3",
   "version": "3.7.3"
  }
 },
 "nbformat": 4,
 "nbformat_minor": 2
}
